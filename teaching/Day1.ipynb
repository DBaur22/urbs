{
 "cells": [
  {
   "cell_type": "markdown",
   "metadata": {},
   "source": [
    "## TO DOs (internal)\n",
    "* add dual values to results"
   ]
  },
  {
   "cell_type": "markdown",
   "metadata": {},
   "source": [
    "### Reminder (Before we start)\n",
    "Change the kernel at the top and set it to \"urbs\" to be able to run this script."
   ]
  },
  {
   "cell_type": "markdown",
   "metadata": {},
   "source": [
    "# Example 1: Electricity supply of an island"
   ]
  },
  {
   "cell_type": "markdown",
   "metadata": {},
   "source": [
    "## Learning objectives\n",
    "* Translate a mathematical optimization problem into a pyomo ConcreteModel/AbstractModel\n",
    "* Recognize the basic structure of an optimization model\n",
    "* Report the results of pyomo in different formats"
   ]
  },
  {
   "cell_type": "markdown",
   "metadata": {},
   "source": [
    "## Mathematical formulation"
   ]
  },
  {
   "cell_type": "markdown",
   "metadata": {},
   "source": [
    "We start with a simple example. Let's assume we have a gas power plant ($P_{gas}$ = 100 MW) and a biomass power plant ($P_{bm}$ = 30 MW) supplying an island. The cost of supplying 1 MWh of electricity using the gas power plant is EUR 50, whereas the cost of using biomass is 25 EUR/MWh.\n",
    "We would like to minimize the cost of operating the system for a given demand of electricity $d(t)$."
   ]
  },
  {
   "cell_type": "markdown",
   "metadata": {},
   "source": [
    "$$\\min \\quad 50s_{gas}(t) + 25s_{bm}(t)$$\n",
    "$$s.t. \\quad s_{gas}(t) + s_{bm}(t) \\geq d(t)$$"
   ]
  },
  {
   "cell_type": "markdown",
   "metadata": {},
   "source": [
    "The supply from the power plant is non-negative:\n",
    "$$s_{gas}(t), s_{bm}(t) \\geq 0$$"
   ]
  },
  {
   "cell_type": "markdown",
   "metadata": {},
   "source": [
    "It cannot exceed the capacity of the power plants:\n",
    "$$s_{gas}(t) \\leq 100$$\n",
    "$$s_{bm}(t) \\leq 30$$"
   ]
  },
  {
   "cell_type": "markdown",
   "metadata": {},
   "source": [
    "Further, we define the demand as follows:\n",
    "$$d(t) = [60, 100, 120, 80, 30]$$"
   ]
  },
  {
   "cell_type": "markdown",
   "metadata": {},
   "source": [
    "### <span style=\"color:blue\">Task</span>\n",
    "Try to solve this problem with pen and paper!"
   ]
  },
  {
   "cell_type": "markdown",
   "metadata": {},
   "source": [
    "## Formulation as a pyomo ConcreteModel"
   ]
  },
  {
   "cell_type": "markdown",
   "metadata": {},
   "source": [
    "We could solve this problem using a pyomo ConcreteModel:"
   ]
  },
  {
   "cell_type": "code",
   "execution_count": 1,
   "metadata": {},
   "outputs": [],
   "source": [
    "import pyomo.environ as pyo\n",
    "from pyomo.environ import *\n",
    "\n",
    "model = pyo.ConcreteModel()\n",
    "model.name = \"Example1\"\n",
    "\n",
    "# Variables\n",
    "model.s = pyo.Var(RangeSet(1, 5), RangeSet(1, 2), domain=pyo.NonNegativeReals)\n",
    "\n",
    "# Objective function\n",
    "model.OBJ = pyo.Objective(expr=50*model.s[1,1] + 25*model.s[1,2] +\\\n",
    "                               50*model.s[2,1] + 25*model.s[2,2] +\\\n",
    "                               50*model.s[3,1] + 25*model.s[3,2] +\\\n",
    "                               50*model.s[4,1] + 25*model.s[4,2] +\\\n",
    "                               50*model.s[5,1] + 25*model.s[5,2])\n",
    "\n",
    "# Constraints\n",
    "model.ConstraintGasCap1 = pyo.Constraint(expr = model.s[1, 1] <= 100)\n",
    "model.ConstraintGasCap2 = pyo.Constraint(expr = model.s[2, 1] <= 100)\n",
    "model.ConstraintGasCap3 = pyo.Constraint(expr = model.s[3, 1] <= 100)\n",
    "model.ConstraintGasCap4 = pyo.Constraint(expr = model.s[4, 1] <= 100)\n",
    "model.ConstraintGasCap5 = pyo.Constraint(expr = model.s[5, 1] <= 100)\n",
    "\n",
    "model.ConstraintBiomassCap1 = pyo.Constraint(expr = model.s[1, 2] <= 30)\n",
    "model.ConstraintBiomassCap2 = pyo.Constraint(expr = model.s[2, 2] <= 30)\n",
    "model.ConstraintBiomassCap3 = pyo.Constraint(expr = model.s[3, 2] <= 30)\n",
    "model.ConstraintBiomassCap4 = pyo.Constraint(expr = model.s[4, 2] <= 30)\n",
    "model.ConstraintBiomassCap5 = pyo.Constraint(expr = model.s[5, 2] <= 30)\n",
    "\n",
    "model.ConstraintDem1 = pyo.Constraint(expr = model.s[1,1] + model.s[1,2] >= 60)\n",
    "model.ConstraintDem2 = pyo.Constraint(expr = model.s[2,1] + model.s[2,2] >= 100)\n",
    "model.ConstraintDem3 = pyo.Constraint(expr = model.s[3,1] + model.s[3,2] >= 120)\n",
    "model.ConstraintDem4 = pyo.Constraint(expr = model.s[4,1] + model.s[4,2] >= 80)\n",
    "model.ConstraintDem5 = pyo.Constraint(expr = model.s[5,1] + model.s[5,2] >= 30)"
   ]
  },
  {
   "cell_type": "code",
   "execution_count": 3,
   "metadata": {},
   "outputs": [
    {
     "data": {
      "text/plain": [
       "('Example1b.lp', 2233384673912)"
      ]
     },
     "execution_count": 3,
     "metadata": {},
     "output_type": "execute_result"
    }
   ],
   "source": [
    "# Write the LP mathematical problem that is solved to a file (optional)\n",
    "# Here, we are reporting the model itself, not its solution\n",
    "model.write(\"Example1a.lp\")"
   ]
  },
  {
   "cell_type": "markdown",
   "metadata": {},
   "source": [
    "### <span style=\"color:blue\">Task</span>\n",
    "Open the file \"Example1a.lp\" with a text editor. Can you recognize the variables and constraints?"
   ]
  },
  {
   "cell_type": "code",
   "execution_count": 5,
   "metadata": {},
   "outputs": [
    {
     "data": {
      "text/plain": [
       "('Example1b.lp', 2233384675816)"
      ]
     },
     "execution_count": 5,
     "metadata": {},
     "output_type": "execute_result"
    }
   ],
   "source": [
    "# Try this now\n",
    "model.write(\"Example1b.lp\", io_options={'symbolic_solver_labels': True})"
   ]
  },
  {
   "cell_type": "code",
   "execution_count": 6,
   "metadata": {},
   "outputs": [
    {
     "data": {
      "text/plain": [
       "{'Problem': [{'Name': 'unknown', 'Lower bound': 15750.0, 'Upper bound': 15750.0, 'Number of objectives': 1, 'Number of constraints': 16, 'Number of variables': 11, 'Number of nonzeros': 21, 'Sense': 'minimize'}], 'Solver': [{'Status': 'ok', 'Termination condition': 'optimal', 'Statistics': {'Branch and bound': {'Number of bounded subproblems': 0, 'Number of created subproblems': 0}}, 'Error rc': 0, 'Time': 0.03581404685974121}], 'Solution': [OrderedDict([('number of solutions', 0), ('number of solutions displayed', 0)])]}"
      ]
     },
     "execution_count": 6,
     "metadata": {},
     "output_type": "execute_result"
    }
   ],
   "source": [
    "opt = pyo.SolverFactory('glpk')\n",
    "results = opt.solve(model)\n",
    "# First way of reporting the solution\n",
    "results"
   ]
  },
  {
   "cell_type": "code",
   "execution_count": 12,
   "metadata": {},
   "outputs": [
    {
     "name": "stdout",
     "output_type": "stream",
     "text": [
      "\n",
      "- Name: unknown\n",
      "  Lower bound: 15750.0\n",
      "  Upper bound: 15750.0\n",
      "  Number of objectives: 1\n",
      "  Number of constraints: 16\n",
      "  Number of variables: 11\n",
      "  Number of nonzeros: 21\n",
      "  Sense: minimize\n",
      "\n"
     ]
    }
   ],
   "source": [
    "print(results.Problem)"
   ]
  },
  {
   "cell_type": "markdown",
   "metadata": {},
   "source": [
    "For more on solver status and termination conditions:\n",
    "http://www.pyomo.org/blog/2015/1/8/accessing-solver"
   ]
  },
  {
   "cell_type": "code",
   "execution_count": 13,
   "metadata": {},
   "outputs": [
    {
     "name": "stdout",
     "output_type": "stream",
     "text": [
      "Model Example1\n",
      "\n",
      "  Variables:\n",
      "    s : Size=10, Index=s_index\n",
      "        Key    : Lower : Value : Upper : Fixed : Stale : Domain\n",
      "        (1, 1) :     0 :  30.0 :  None : False : False : NonNegativeReals\n",
      "        (1, 2) :     0 :  30.0 :  None : False : False : NonNegativeReals\n",
      "        (2, 1) :     0 :  70.0 :  None : False : False : NonNegativeReals\n",
      "        (2, 2) :     0 :  30.0 :  None : False : False : NonNegativeReals\n",
      "        (3, 1) :     0 :  90.0 :  None : False : False : NonNegativeReals\n",
      "        (3, 2) :     0 :  30.0 :  None : False : False : NonNegativeReals\n",
      "        (4, 1) :     0 :  50.0 :  None : False : False : NonNegativeReals\n",
      "        (4, 2) :     0 :  30.0 :  None : False : False : NonNegativeReals\n",
      "        (5, 1) :     0 :   0.0 :  None : False : False : NonNegativeReals\n",
      "        (5, 2) :     0 :  30.0 :  None : False : False : NonNegativeReals\n",
      "\n",
      "  Objectives:\n",
      "    OBJ : Size=1, Index=None, Active=True\n",
      "        Key  : Active : Value\n",
      "        None :   True : 15750.0\n",
      "\n",
      "  Constraints:\n",
      "    ConstraintGasCap1 : Size=1\n",
      "        Key  : Lower : Body : Upper\n",
      "        None :  None : 30.0 : 100.0\n",
      "    ConstraintGasCap2 : Size=1\n",
      "        Key  : Lower : Body : Upper\n",
      "        None :  None : 70.0 : 100.0\n",
      "    ConstraintGasCap3 : Size=1\n",
      "        Key  : Lower : Body : Upper\n",
      "        None :  None : 90.0 : 100.0\n",
      "    ConstraintGasCap4 : Size=1\n",
      "        Key  : Lower : Body : Upper\n",
      "        None :  None : 50.0 : 100.0\n",
      "    ConstraintGasCap5 : Size=1\n",
      "        Key  : Lower : Body : Upper\n",
      "        None :  None :  0.0 : 100.0\n",
      "    ConstraintBiomassCap1 : Size=1\n",
      "        Key  : Lower : Body : Upper\n",
      "        None :  None : 30.0 :  30.0\n",
      "    ConstraintBiomassCap2 : Size=1\n",
      "        Key  : Lower : Body : Upper\n",
      "        None :  None : 30.0 :  30.0\n",
      "    ConstraintBiomassCap3 : Size=1\n",
      "        Key  : Lower : Body : Upper\n",
      "        None :  None : 30.0 :  30.0\n",
      "    ConstraintBiomassCap4 : Size=1\n",
      "        Key  : Lower : Body : Upper\n",
      "        None :  None : 30.0 :  30.0\n",
      "    ConstraintBiomassCap5 : Size=1\n",
      "        Key  : Lower : Body : Upper\n",
      "        None :  None : 30.0 :  30.0\n",
      "    ConstraintDem1 : Size=1\n",
      "        Key  : Lower : Body : Upper\n",
      "        None :  60.0 : 60.0 :  None\n",
      "    ConstraintDem2 : Size=1\n",
      "        Key  : Lower : Body  : Upper\n",
      "        None : 100.0 : 100.0 :  None\n",
      "    ConstraintDem3 : Size=1\n",
      "        Key  : Lower : Body  : Upper\n",
      "        None : 120.0 : 120.0 :  None\n",
      "    ConstraintDem4 : Size=1\n",
      "        Key  : Lower : Body : Upper\n",
      "        None :  80.0 : 80.0 :  None\n",
      "    ConstraintDem5 : Size=1\n",
      "        Key  : Lower : Body : Upper\n",
      "        None :  30.0 : 30.0 :  None\n"
     ]
    }
   ],
   "source": [
    "model.display()"
   ]
  },
  {
   "cell_type": "markdown",
   "metadata": {},
   "source": [
    "### <span style=\"color:blue\">Task</span>\n",
    "1. Try to comment one or multiple constraints. What happens?\n",
    "2. Try to maximize instead of minimizing the costs. (Tip: add the option 'sense=pyo.maximize' into the objective function)\n",
    "3. How easy is it to add another power plant? Another time step?"
   ]
  },
  {
   "cell_type": "markdown",
   "metadata": {},
   "source": [
    "## Formulation as a pyomo AbstractModel\n",
    "\n",
    "One way to add flexibility is to write the problem abstractly. For example, the following equations represent a linear program (LP) to find optimal values for the vector $x$ (in our case, the hourly supply from the power plants) with parameters $c_j$ (costs), $a_{i,j}$ and $b_i$ (constraints):\n",
    "\n",
    "$$ \\begin{array}{lll} \\min & \\sum_{j=1}^n c_j x_{j,t} & \\\\\n",
    "s.t. & \\sum_{j=1}^n a_{i,j} x_{j,t} \\geq b_{i,t} & \\forall i = 1 \\ldots m\\\\ & x_{j,t} \\geq 0 & \\forall j = 1 \\ldots n\n",
    "\\end{array} $$ "
   ]
  },
  {
   "cell_type": "markdown",
   "metadata": {},
   "source": [
    "For that, there is the pyomo class AbstractModel:"
   ]
  },
  {
   "cell_type": "code",
   "execution_count": 93,
   "metadata": {},
   "outputs": [],
   "source": [
    "from pyomo.environ import *\n",
    "\n",
    "model = AbstractModel()\n",
    "\n",
    "# Sets\n",
    "model.I = Set() # we could define the dimensions, or let pyomo determine them from the data\n",
    "model.J = Set()\n",
    "model.T = Set()\n",
    "\n",
    "# Parameters\n",
    "model.a = Param(model.I, model.J)\n",
    "model.b = Param(model.I, model.T)\n",
    "model.c = Param(model.J)\n",
    "\n",
    "# Variables\n",
    "model.x = Var(model.J, model.T, domain=NonNegativeReals) # the variable is indexed by the set J\n",
    "\n",
    "# Objective function\n",
    "def obj_expression(model):\n",
    "    sigma = 0\n",
    "    for t in model.T:\n",
    "        for j in model.J:\n",
    "            sigma = sigma + model.c[j] * model.x[(j, t)]\n",
    "    return sigma\n",
    "\n",
    "model.OBJ = Objective(rule=obj_expression)\n",
    "\n",
    "# Constraints\n",
    "def ax_constraint_rule(model, i, t):\n",
    "    # return the expression for the constraint for i\n",
    "    return sum(model.a[i,j] * model.x[j, t] for j in model.J) >= model.b[i, t]\n",
    "\n",
    "model.AxbConstraint = Constraint(model.I, model.T, rule=ax_constraint_rule) # this creates one constraint for each member of the set model.I"
   ]
  },
  {
   "cell_type": "markdown",
   "metadata": {},
   "source": [
    "By running the code, we create an abstract model. Now we need to create an instance of it:"
   ]
  },
  {
   "cell_type": "code",
   "execution_count": 94,
   "metadata": {},
   "outputs": [
    {
     "name": "stdout",
     "output_type": "stream",
     "text": [
      "7 Set Declarations\n",
      "    AxbConstraint_index : Size=1, Index=None, Ordered=True\n",
      "        Key  : Dimen : Domain : Size : Members\n",
      "        None :    -- :    I*T :    0 :      {}\n",
      "    I : Size=1, Index=None, Ordered=Insertion\n",
      "        Key  : Dimen : Domain : Size : Members\n",
      "        None :    -- :    Any :    0 :      {}\n",
      "    J : Size=1, Index=None, Ordered=Insertion\n",
      "        Key  : Dimen : Domain : Size : Members\n",
      "        None :    -- :    Any :    0 :      {}\n",
      "    T : Size=1, Index=None, Ordered=Insertion\n",
      "        Key  : Dimen : Domain : Size : Members\n",
      "        None :    -- :    Any :    0 :      {}\n",
      "    a_index : Size=1, Index=None, Ordered=True\n",
      "        Key  : Dimen : Domain : Size : Members\n",
      "        None :    -- :    I*J :    0 :      {}\n",
      "    b_index : Size=1, Index=None, Ordered=True\n",
      "        Key  : Dimen : Domain : Size : Members\n",
      "        None :    -- :    I*T :    0 :      {}\n",
      "    x_index : Size=1, Index=None, Ordered=True\n",
      "        Key  : Dimen : Domain : Size : Members\n",
      "        None :    -- :    J*T :    0 :      {}\n",
      "\n",
      "3 Param Declarations\n",
      "    a : Size=0, Index=a_index, Domain=Any, Default=None, Mutable=False\n",
      "        Key : Value\n",
      "    b : Size=0, Index=b_index, Domain=Any, Default=None, Mutable=False\n",
      "        Key : Value\n",
      "    c : Size=0, Index=J, Domain=Any, Default=None, Mutable=False\n",
      "        Key : Value\n",
      "\n",
      "1 Var Declarations\n",
      "    x : Size=0, Index=x_index\n",
      "        Key : Lower : Value : Upper : Fixed : Stale : Domain\n",
      "\n",
      "1 Objective Declarations\n",
      "    OBJ : Size=1, Index=None, Active=True\n",
      "        Key  : Active : Sense    : Expression\n",
      "        None :   True : minimize :        0.0\n",
      "\n",
      "1 Constraint Declarations\n",
      "    AxbConstraint : Size=0, Index=AxbConstraint_index, Active=True\n",
      "        Key : Lower : Body : Upper : Active\n",
      "\n",
      "13 Declarations: I J T a_index a b_index b c x_index x OBJ AxbConstraint_index AxbConstraint\n"
     ]
    }
   ],
   "source": [
    "# We can create an instance without filling it with data\n",
    "instance = model.create_instance()\n",
    "instance.pprint()"
   ]
  },
  {
   "cell_type": "code",
   "execution_count": 95,
   "metadata": {},
   "outputs": [
    {
     "data": {
      "text/plain": [
       "['I', 'J', 'T', 'c', 'a', 'b']"
      ]
     },
     "execution_count": 95,
     "metadata": {},
     "output_type": "execute_result"
    }
   ],
   "source": [
    "# We can load data from a file (written in AMPL format)\n",
    "data = DataPortal()\n",
    "data.load(filename='abstract2.dat')\n",
    "# You can view the defined sets and parameters\n",
    "list(data.keys())"
   ]
  },
  {
   "cell_type": "code",
   "execution_count": 96,
   "metadata": {},
   "outputs": [
    {
     "name": "stdout",
     "output_type": "stream",
     "text": [
      "7 Set Declarations\n",
      "    AxbConstraint_index : Size=1, Index=None, Ordered=True\n",
      "        Key  : Dimen : Domain : Size : Members\n",
      "        None :     2 :    I*T :   15 : {('GasCap', 't1'), ('GasCap', 't2'), ('GasCap', 't3'), ('GasCap', 't4'), ('GasCap', 't5'), ('BiomassCap', 't1'), ('BiomassCap', 't2'), ('BiomassCap', 't3'), ('BiomassCap', 't4'), ('BiomassCap', 't5'), ('Dem', 't1'), ('Dem', 't2'), ('Dem', 't3'), ('Dem', 't4'), ('Dem', 't5')}\n",
      "    I : Size=1, Index=None, Ordered=Insertion\n",
      "        Key  : Dimen : Domain : Size : Members\n",
      "        None :     1 :    Any :    3 : {'GasCap', 'BiomassCap', 'Dem'}\n",
      "    J : Size=1, Index=None, Ordered=Insertion\n",
      "        Key  : Dimen : Domain : Size : Members\n",
      "        None :     1 :    Any :    2 : {'Gas', 'Biomass'}\n",
      "    T : Size=1, Index=None, Ordered=Insertion\n",
      "        Key  : Dimen : Domain : Size : Members\n",
      "        None :     1 :    Any :    5 : {'t1', 't2', 't3', 't4', 't5'}\n",
      "    a_index : Size=1, Index=None, Ordered=True\n",
      "        Key  : Dimen : Domain : Size : Members\n",
      "        None :     2 :    I*J :    6 : {('GasCap', 'Gas'), ('GasCap', 'Biomass'), ('BiomassCap', 'Gas'), ('BiomassCap', 'Biomass'), ('Dem', 'Gas'), ('Dem', 'Biomass')}\n",
      "    b_index : Size=1, Index=None, Ordered=True\n",
      "        Key  : Dimen : Domain : Size : Members\n",
      "        None :     2 :    I*T :   15 : {('GasCap', 't1'), ('GasCap', 't2'), ('GasCap', 't3'), ('GasCap', 't4'), ('GasCap', 't5'), ('BiomassCap', 't1'), ('BiomassCap', 't2'), ('BiomassCap', 't3'), ('BiomassCap', 't4'), ('BiomassCap', 't5'), ('Dem', 't1'), ('Dem', 't2'), ('Dem', 't3'), ('Dem', 't4'), ('Dem', 't5')}\n",
      "    x_index : Size=1, Index=None, Ordered=True\n",
      "        Key  : Dimen : Domain : Size : Members\n",
      "        None :     2 :    J*T :   10 : {('Gas', 't1'), ('Gas', 't2'), ('Gas', 't3'), ('Gas', 't4'), ('Gas', 't5'), ('Biomass', 't1'), ('Biomass', 't2'), ('Biomass', 't3'), ('Biomass', 't4'), ('Biomass', 't5')}\n",
      "\n",
      "3 Param Declarations\n",
      "    a : Size=6, Index=a_index, Domain=Any, Default=None, Mutable=False\n",
      "        Key                       : Value\n",
      "        ('BiomassCap', 'Biomass') :    -1\n",
      "            ('BiomassCap', 'Gas') :     0\n",
      "               ('Dem', 'Biomass') :     1\n",
      "                   ('Dem', 'Gas') :     1\n",
      "            ('GasCap', 'Biomass') :     0\n",
      "                ('GasCap', 'Gas') :    -1\n",
      "    b : Size=15, Index=b_index, Domain=Any, Default=None, Mutable=False\n",
      "        Key                  : Value\n",
      "        ('BiomassCap', 't1') :   -30\n",
      "        ('BiomassCap', 't2') :   -30\n",
      "        ('BiomassCap', 't3') :   -30\n",
      "        ('BiomassCap', 't4') :   -30\n",
      "        ('BiomassCap', 't5') :   -30\n",
      "               ('Dem', 't1') :    60\n",
      "               ('Dem', 't2') :   100\n",
      "               ('Dem', 't3') :   120\n",
      "               ('Dem', 't4') :    80\n",
      "               ('Dem', 't5') :    30\n",
      "            ('GasCap', 't1') :  -100\n",
      "            ('GasCap', 't2') :  -100\n",
      "            ('GasCap', 't3') :  -100\n",
      "            ('GasCap', 't4') :  -100\n",
      "            ('GasCap', 't5') :  -100\n",
      "    c : Size=2, Index=J, Domain=Any, Default=None, Mutable=False\n",
      "        Key     : Value\n",
      "        Biomass :    25\n",
      "            Gas :    50\n",
      "\n",
      "1 Var Declarations\n",
      "    x : Size=10, Index=x_index\n",
      "        Key               : Lower : Value : Upper : Fixed : Stale : Domain\n",
      "        ('Biomass', 't1') :     0 :  None :  None : False :  True : NonNegativeReals\n",
      "        ('Biomass', 't2') :     0 :  None :  None : False :  True : NonNegativeReals\n",
      "        ('Biomass', 't3') :     0 :  None :  None : False :  True : NonNegativeReals\n",
      "        ('Biomass', 't4') :     0 :  None :  None : False :  True : NonNegativeReals\n",
      "        ('Biomass', 't5') :     0 :  None :  None : False :  True : NonNegativeReals\n",
      "            ('Gas', 't1') :     0 :  None :  None : False :  True : NonNegativeReals\n",
      "            ('Gas', 't2') :     0 :  None :  None : False :  True : NonNegativeReals\n",
      "            ('Gas', 't3') :     0 :  None :  None : False :  True : NonNegativeReals\n",
      "            ('Gas', 't4') :     0 :  None :  None : False :  True : NonNegativeReals\n",
      "            ('Gas', 't5') :     0 :  None :  None : False :  True : NonNegativeReals\n",
      "\n",
      "1 Objective Declarations\n",
      "    OBJ : Size=1, Index=None, Active=True\n",
      "        Key  : Active : Sense    : Expression\n",
      "        None :   True : minimize : 50*x[Gas,t1] + 25*x[Biomass,t1] + 50*x[Gas,t2] + 25*x[Biomass,t2] + 50*x[Gas,t3] + 25*x[Biomass,t3] + 50*x[Gas,t4] + 25*x[Biomass,t4] + 50*x[Gas,t5] + 25*x[Biomass,t5]\n",
      "\n",
      "1 Constraint Declarations\n",
      "    AxbConstraint : Size=15, Index=AxbConstraint_index, Active=True\n",
      "        Key                  : Lower  : Body                      : Upper : Active\n",
      "        ('BiomassCap', 't1') :  -30.0 :           - x[Biomass,t1] :  +Inf :   True\n",
      "        ('BiomassCap', 't2') :  -30.0 :           - x[Biomass,t2] :  +Inf :   True\n",
      "        ('BiomassCap', 't3') :  -30.0 :           - x[Biomass,t3] :  +Inf :   True\n",
      "        ('BiomassCap', 't4') :  -30.0 :           - x[Biomass,t4] :  +Inf :   True\n",
      "        ('BiomassCap', 't5') :  -30.0 :           - x[Biomass,t5] :  +Inf :   True\n",
      "               ('Dem', 't1') :   60.0 : x[Gas,t1] + x[Biomass,t1] :  +Inf :   True\n",
      "               ('Dem', 't2') :  100.0 : x[Gas,t2] + x[Biomass,t2] :  +Inf :   True\n",
      "               ('Dem', 't3') :  120.0 : x[Gas,t3] + x[Biomass,t3] :  +Inf :   True\n",
      "               ('Dem', 't4') :   80.0 : x[Gas,t4] + x[Biomass,t4] :  +Inf :   True\n",
      "               ('Dem', 't5') :   30.0 : x[Gas,t5] + x[Biomass,t5] :  +Inf :   True\n",
      "            ('GasCap', 't1') : -100.0 :               - x[Gas,t1] :  +Inf :   True\n",
      "            ('GasCap', 't2') : -100.0 :               - x[Gas,t2] :  +Inf :   True\n",
      "            ('GasCap', 't3') : -100.0 :               - x[Gas,t3] :  +Inf :   True\n",
      "            ('GasCap', 't4') : -100.0 :               - x[Gas,t4] :  +Inf :   True\n",
      "            ('GasCap', 't5') : -100.0 :               - x[Gas,t5] :  +Inf :   True\n",
      "\n",
      "13 Declarations: I J T a_index a b_index b c x_index x OBJ AxbConstraint_index AxbConstraint\n"
     ]
    }
   ],
   "source": [
    "# We can create an instance that is filled with input data\n",
    "instance = model.create_instance(data)\n",
    "instance.pprint()"
   ]
  },
  {
   "cell_type": "code",
   "execution_count": 97,
   "metadata": {},
   "outputs": [
    {
     "data": {
      "text/plain": [
       "{'Problem': [{'Name': 'unknown', 'Lower bound': 15750.0, 'Upper bound': 15750.0, 'Number of objectives': 1, 'Number of constraints': 16, 'Number of variables': 11, 'Number of nonzeros': 21, 'Sense': 'minimize'}], 'Solver': [{'Status': 'ok', 'Termination condition': 'optimal', 'Statistics': {'Branch and bound': {'Number of bounded subproblems': 0, 'Number of created subproblems': 0}}, 'Error rc': 0, 'Time': 0.02132582664489746}], 'Solution': [OrderedDict([('number of solutions', 0), ('number of solutions displayed', 0)])]}"
      ]
     },
     "execution_count": 97,
     "metadata": {},
     "output_type": "execute_result"
    }
   ],
   "source": [
    "opt = SolverFactory('glpk')\n",
    "opt.solve(instance) "
   ]
  },
  {
   "cell_type": "code",
   "execution_count": 98,
   "metadata": {},
   "outputs": [
    {
     "name": "stdout",
     "output_type": "stream",
     "text": [
      "Model unknown\n",
      "\n",
      "  Variables:\n",
      "    x : Size=10, Index=x_index\n",
      "        Key               : Lower : Value : Upper : Fixed : Stale : Domain\n",
      "        ('Biomass', 't1') :     0 :  30.0 :  None : False : False : NonNegativeReals\n",
      "        ('Biomass', 't2') :     0 :  30.0 :  None : False : False : NonNegativeReals\n",
      "        ('Biomass', 't3') :     0 :  30.0 :  None : False : False : NonNegativeReals\n",
      "        ('Biomass', 't4') :     0 :  30.0 :  None : False : False : NonNegativeReals\n",
      "        ('Biomass', 't5') :     0 :  30.0 :  None : False : False : NonNegativeReals\n",
      "            ('Gas', 't1') :     0 :  30.0 :  None : False : False : NonNegativeReals\n",
      "            ('Gas', 't2') :     0 :  70.0 :  None : False : False : NonNegativeReals\n",
      "            ('Gas', 't3') :     0 :  90.0 :  None : False : False : NonNegativeReals\n",
      "            ('Gas', 't4') :     0 :  50.0 :  None : False : False : NonNegativeReals\n",
      "            ('Gas', 't5') :     0 :   0.0 :  None : False : False : NonNegativeReals\n",
      "\n",
      "  Objectives:\n",
      "    OBJ : Size=1, Index=None, Active=True\n",
      "        Key  : Active : Value\n",
      "        None :   True : 15750.0\n",
      "\n",
      "  Constraints:\n",
      "    AxbConstraint : Size=15\n",
      "        Key                  : Lower  : Body  : Upper\n",
      "        ('BiomassCap', 't1') :  -30.0 : -30.0 :  None\n",
      "        ('BiomassCap', 't2') :  -30.0 : -30.0 :  None\n",
      "        ('BiomassCap', 't3') :  -30.0 : -30.0 :  None\n",
      "        ('BiomassCap', 't4') :  -30.0 : -30.0 :  None\n",
      "        ('BiomassCap', 't5') :  -30.0 : -30.0 :  None\n",
      "               ('Dem', 't1') :   60.0 :  60.0 :  None\n",
      "               ('Dem', 't2') :  100.0 : 100.0 :  None\n",
      "               ('Dem', 't3') :  120.0 : 120.0 :  None\n",
      "               ('Dem', 't4') :   80.0 :  80.0 :  None\n",
      "               ('Dem', 't5') :   30.0 :  30.0 :  None\n",
      "            ('GasCap', 't1') : -100.0 : -30.0 :  None\n",
      "            ('GasCap', 't2') : -100.0 : -70.0 :  None\n",
      "            ('GasCap', 't3') : -100.0 : -90.0 :  None\n",
      "            ('GasCap', 't4') : -100.0 : -50.0 :  None\n",
      "            ('GasCap', 't5') : -100.0 :  -0.0 :  None\n"
     ]
    }
   ],
   "source": [
    "instance.display()"
   ]
  },
  {
   "cell_type": "markdown",
   "metadata": {},
   "source": [
    "### Tasks\n",
    "1. Set the demand in the last time step to 140. What happens?\n",
    "2. Add a third technology, PV, with zero running costs and with varying upper bounds for every time step.\n",
    "3. How easy is it to add another power plant? Another time step?"
   ]
  },
  {
   "cell_type": "code",
   "execution_count": null,
   "metadata": {},
   "outputs": [],
   "source": []
  }
 ],
 "metadata": {
  "kernelspec": {
   "display_name": "urbs",
   "language": "python",
   "name": "urbs"
  },
  "language_info": {
   "codemirror_mode": {
    "name": "ipython",
    "version": 3
   },
   "file_extension": ".py",
   "mimetype": "text/x-python",
   "name": "python",
   "nbconvert_exporter": "python",
   "pygments_lexer": "ipython3",
   "version": "3.6.12"
  }
 },
 "nbformat": 4,
 "nbformat_minor": 4
}
