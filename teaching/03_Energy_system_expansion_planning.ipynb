{
 "cells": [
  {
   "cell_type": "markdown",
   "metadata": {},
   "source": [
    "# Example 3: Energy system expansion planning"
   ]
  },
  {
   "cell_type": "markdown",
   "metadata": {},
   "source": [
    "## Learning objectives\n",
    "* Model different energy sectors\n",
    "* Model sector-coupling\n",
    "* Apply the model to minimize costs / emissions\n",
    "* Analyze different decarbonization scenarios"
   ]
  },
  {
   "cell_type": "markdown",
   "metadata": {},
   "source": [
    "## Recap\n",
    "We used yesterday a trimmed down version of urbs to model the power system expansion. We got familiar with the key model components and its nomenclature.\n",
    "> If you have any question regarding a piece of code, this is the time to discuss it!"
   ]
  },
  {
   "cell_type": "markdown",
   "metadata": {},
   "source": [
    "## pyomo ConcreteModel with python input\n",
    "\n",
    "We will continue working with our mini urbs version and apply it on different use cases (all greenfield expansion planning):\n",
    "1. OldTown: the demands for electricity and heat are covered by different technologies with no coupling\n",
    "2. NewTown: some technologies can provide both heat and power\n",
    "3. FutureTown: electricity is used to cover power and heat demands"
   ]
  },
  {
   "cell_type": "markdown",
   "metadata": {},
   "source": [
    "### Libraries"
   ]
  },
  {
   "cell_type": "code",
   "execution_count": null,
   "metadata": {},
   "outputs": [],
   "source": [
    "import pyomo.environ as pyo\n",
    "import pandas as pd\n",
    "import numpy as np\n",
    "import matplotlib.pyplot as plt"
   ]
  },
  {
   "cell_type": "markdown",
   "metadata": {},
   "source": [
    "### Data"
   ]
  },
  {
   "cell_type": "code",
   "execution_count": null,
   "metadata": {},
   "outputs": [],
   "source": [
    "def generate_scenario(objective=\"cost\", local_co2_limit=np.inf, co2_price=10):\n",
    "    \"\"\" This function generates for different scenario assumptions.\n",
    "    Args:\n",
    "    - objective: either \"cost\" (default) or \"CO2\"\n",
    "    - local_co2_limit: default is infinite\n",
    "    - co2_price: default is 10€/t\n",
    "    \"\"\"\n",
    "    # To avoid any confusion, we pick a personalized name for our dictionary\n",
    "    mydata = dict()\n",
    "\n",
    "    # Parameters\n",
    "    mydata[\"dt\"] = 1 # time interval between two consecutive steps, in this case 1 hour\n",
    "    mydata[\"objective\"] = objective\n",
    "    mydata[\"Cost limit\"] = np.inf # per year\n",
    "    mydata[\"CO2 limit\"] = np.inf\n",
    "\n",
    "    # Sets\n",
    "    #mydata[\"timesteps\"] will be defined based on the length of the time series\n",
    "    mydata[\"support_timeframes\"] = [2021]\n",
    "    mydata[\"sites\"] = [\"OldTown\", \"NewTown\", \"FutureTown\"]\n",
    "    mydata[\"commodities\"] = [\"Elec\", \"Heat\", \"Gas\", \"SolarPV\", \"SolarThermal\", \"CO2\", \"AmbientTemp\"]\n",
    "    mydata[\"com_type\"] = [\"Demand\", \"Stock\", \"Env\", \"SupIm\"] # (i.e. SupIm, Demand, Stock, Env)\n",
    "    mydata[\"process\"] = [\"Gas plant\", \"PV plant\", \n",
    "                         \"Gas boiler\", \"Solar thermal\",\n",
    "                         \"Gas CHP\", # CHP: combined heat and power\n",
    "                         \"Heat pump\", \"Electric resistance\"] \n",
    "    mydata[\"cost_type\"] = ['Invest', 'Fixed', 'Variable', 'Fuel', 'Environmental']\n",
    "\n",
    "    # Dictionaries - commodities\n",
    "    mydata[\"com_prices\"] = {}\n",
    "    mydata[\"com_max\"] = {}\n",
    "    for stf in mydata[\"support_timeframes\"]:\n",
    "        for sit in mydata[\"sites\"]:\n",
    "            mydata[\"com_prices\"].update({(stf, sit, \"Gas\", \"Stock\"): 24.8,\n",
    "                                         (stf, sit, \"SolarPV\", \"SupIm\"): 0,\n",
    "                                         (stf, sit, \"SolarThermal\", \"SupIm\"): 0,\n",
    "                                         (stf, sit, \"AmbientTemp\", \"SupIm\"): 0,\n",
    "                                         (stf, sit, \"Elec\", \"Demand\"): 0,\n",
    "                                         (stf, sit, \"Heat\", \"Demand\"): 0,\n",
    "                                         (stf, sit, \"CO2\", \"Env\"): co2_price})\n",
    "\n",
    "            mydata[\"com_max\"].update({(stf, sit, \"Gas\", \"Stock\"): np.inf,\n",
    "                                      (stf, sit, \"SolarPV\", \"SupIm\"): np.inf,\n",
    "                                      (stf, sit, \"SolarThermal\", \"SupIm\"): np.inf,\n",
    "                                      (stf, sit, \"AmbientTemp\", \"SupIm\"): np.inf,\n",
    "                                      (stf, sit, \"Elec\", \"Demand\"): np.inf,\n",
    "                                      (stf, sit, \"Heat\", \"Demand\"): np.inf,\n",
    "                                      (stf, sit, \"CO2\", \"Env\"): local_co2_limit})\n",
    "\n",
    "    # Dictionaries - processes\n",
    "    mydata[\"pro_capup\"] = {\n",
    "        (2021, \"OldTown\", \"Gas boiler\"): np.inf, # for heat\n",
    "        (2021, \"OldTown\", \"Solar thermal\"): np.inf, # for heat\n",
    "        (2021, \"OldTown\", \"Gas plant\"): np.inf, # for electricity\n",
    "        (2021, \"OldTown\", \"PV plant\"): np.inf, # for electricity\n",
    "        \n",
    "        (2021, \"NewTown\", \"Gas boiler\"): np.inf, # for heat\n",
    "        (2021, \"NewTown\", \"Solar thermal\"): np.inf, # for heat\n",
    "        (2021, \"NewTown\", \"Gas plant\"): np.inf, # for electricity\n",
    "        (2021, \"NewTown\", \"PV plant\"): np.inf, # for electricity\n",
    "        (2021, \"NewTown\", \"Gas CHP\"): np.inf, # for electricity and heat\n",
    "        \n",
    "        (2021, \"FutureTown\", \"Gas plant\"): np.inf, # for electricity\n",
    "        (2021, \"FutureTown\", \"PV plant\"): np.inf, # for electricity\n",
    "        (2021, \"FutureTown\", \"Heat pump\"): np.inf, # for heat from electricity\n",
    "        (2021, \"FutureTown\", \"Electric resistance\"): np.inf, # for heat from electricity\n",
    "    }\n",
    "    \n",
    "    mydata[\"pro_instcap\"] = {}\n",
    "    mydata[\"pro_caplo\"] = {}\n",
    "    for k in mydata[\"pro_capup\"].keys():\n",
    "        mydata[\"pro_instcap\"][k] = 0\n",
    "        mydata[\"pro_caplo\"][k] = 0\n",
    "\n",
    "    # initialize with pro_instcap to obtain the same keys\n",
    "    mydata[\"pro_invcost\"] = mydata[\"pro_instcap\"].copy()\n",
    "    mydata[\"pro_fixcost\"] = mydata[\"pro_instcap\"].copy()\n",
    "    mydata[\"pro_varcost\"] = mydata[\"pro_instcap\"].copy()\n",
    "    mydata[\"pro_wacc\"] = mydata[\"pro_instcap\"].copy()\n",
    "    mydata[\"pro_depreciation\"] = mydata[\"pro_instcap\"].copy()\n",
    "    \n",
    "    for (stf, sit, pro) in mydata[\"pro_invcost\"].keys():\n",
    "        mydata[\"pro_wacc\"][(stf, sit, pro)] = 0.07 # weigthed average cost of capital (in % of capital cost)\n",
    "        if pro == \"Gas plant\":\n",
    "            mydata[\"pro_invcost\"][(stf, sit, pro)] = 850000\n",
    "            mydata[\"pro_fixcost\"][(stf, sit, pro)] = 21250\n",
    "            mydata[\"pro_varcost\"][(stf, sit, pro)] = 2\n",
    "            mydata[\"pro_depreciation\"][(stf, sit, pro)] = 30\n",
    "        if pro == \"PV plant\":\n",
    "            mydata[\"pro_invcost\"][(stf, sit, pro)] = 800000\n",
    "            mydata[\"pro_fixcost\"][(stf, sit, pro)] = 13600\n",
    "            mydata[\"pro_varcost\"][(stf, sit, pro)] = 0\n",
    "            mydata[\"pro_depreciation\"][(stf, sit, pro)] = 25\n",
    "        if pro == \"Gas boiler\":\n",
    "            mydata[\"pro_invcost\"][(stf, sit, pro)] = 500000\n",
    "            mydata[\"pro_fixcost\"][(stf, sit, pro)] = 25000\n",
    "            mydata[\"pro_varcost\"][(stf, sit, pro)] = 3\n",
    "            mydata[\"pro_depreciation\"][(stf, sit, pro)] = 15\n",
    "        if pro == \"Solar thermal\":\n",
    "            mydata[\"pro_invcost\"][(stf, sit, pro)] = 800000\n",
    "            mydata[\"pro_fixcost\"][(stf, sit, pro)] = 13600\n",
    "            mydata[\"pro_varcost\"][(stf, sit, pro)] = 0\n",
    "            mydata[\"pro_depreciation\"][(stf, sit, pro)] = 25\n",
    "        if pro == \"Gas CHP\":\n",
    "            mydata[\"pro_invcost\"][(stf, sit, pro)] = 1000000\n",
    "            mydata[\"pro_fixcost\"][(stf, sit, pro)] = 20000\n",
    "            mydata[\"pro_varcost\"][(stf, sit, pro)] = 0\n",
    "            mydata[\"pro_depreciation\"][(stf, sit, pro)] = 30\n",
    "        if pro == \"Heat pump\":\n",
    "            mydata[\"pro_invcost\"][(stf, sit, pro)] = 500000\n",
    "            mydata[\"pro_fixcost\"][(stf, sit, pro)] = 10000\n",
    "            mydata[\"pro_varcost\"][(stf, sit, pro)] = 0\n",
    "            mydata[\"pro_depreciation\"][(stf, sit, pro)] = 15\n",
    "        if pro == \"Electric resistance\":\n",
    "            mydata[\"pro_invcost\"][(stf, sit, pro)] = 100000\n",
    "            mydata[\"pro_fixcost\"][(stf, sit, pro)] = 5000\n",
    "            mydata[\"pro_varcost\"][(stf, sit, pro)] = 0\n",
    "            mydata[\"pro_depreciation\"][(stf, sit, pro)] = 10\n",
    "\n",
    "    # Dictionaries - conversion ratios\n",
    "    mydata[\"ratio_in\"] = {\n",
    "        (2021, \"Gas plant\", \"Gas\"): 1.67,\n",
    "        (2021, \"PV plant\", \"SolarPV\"): 1,\n",
    "        (2021, \"Gas boiler\", \"Gas\"): 1.09,\n",
    "        (2021, \"Solar thermal\", \"SolarThermal\"): 1,\n",
    "        (2021, \"Gas CHP\", \"Gas\"): 2.22,\n",
    "        (2021, \"Heat pump\", \"Elec\"): 1,\n",
    "        (2021, \"Heat pump\", \"AmbientTemp\"): 1,\n",
    "        (2021, \"Electric resistance\", \"Elec\"): 1,\n",
    "    }\n",
    "    mydata[\"ratio_out\"] = {\n",
    "        (2021, \"Gas plant\", \"Elec\"): 1,\n",
    "        (2021, \"Gas plant\", \"CO2\"): 0.3,\n",
    "        (2021, \"PV plant\", \"Elec\"): 1,\n",
    "        (2021, \"Gas boiler\", \"Heat\"): 1,\n",
    "        (2021, \"Gas boiler\", \"CO2\"): 0.2,\n",
    "        (2021, \"Solar thermal\", \"Heat\"): 1,\n",
    "        (2021, \"Gas CHP\", \"Elec\"): 1,\n",
    "        (2021, \"Gas CHP\", \"Heat\"): 0.88,\n",
    "        (2021, \"Gas CHP\", \"CO2\"): 0.4,\n",
    "        (2021, \"Heat pump\", \"Heat\"): 5,\n",
    "        (2021, \"Electric resistance\", \"Heat\"): 2.7,\n",
    "    }\n",
    "\n",
    "    # Dictionaries - time series\n",
    "    ts_Elec = [30, 30, 35, 30, 35, 60, 100, 120, 80, 60, 55, 50, 50, 60, 65, 60, 85, 100, 130, 140, 120, 100, 65, 50]\n",
    "    ts_Heat = [30, 30, 35, 30, 35, 60, 100, 120, 80, 60, 55, 50, 50, 60, 65, 60, 85, 100, 130, 140, 120, 100, 65, 50]\n",
    "    ts_AmbientTemp = [5, 5, 3, 3, 5, 7, 7, 10, 12, 15, 16, 18, 18, 20, 17, 19, 16, 14, 12, 10, 8, 8, 6, 5]\n",
    "    ts_SolarPV = [0, 0, 0, 0, 0, 0.05, 0.1, 0.15, 0.22, 0.35, 0.4, 0.55, 0.5, 0.45, 0.39, 0.35, 0.3, 0.2, 0.05, 0, 0, 0, 0, 0]\n",
    "    ts_SolarThermal = [0, 0, 0, 0, 0, 0.05, 0.1, 0.15, 0.22, 0.35, 0.4, 0.55, 0.5, 0.45, 0.39, 0.35, 0.3, 0.2, 0.05, 0, 0, 0, 0, 0]\n",
    "\n",
    "    # Scale the ambient temperature time series so that the efficiency is 1 if temperature <= 5°C,\n",
    "    # and decreases to 0.2 if >= 25°C\n",
    "    ts_AmbientTemp = np.array(ts_AmbientTemp, dtype=float)\n",
    "    ts_AmbientTemp[np.array(ts_AmbientTemp)<=5] = 1\n",
    "    ts_AmbientTemp[ts_AmbientTemp>=25] = 0.2\n",
    "    ts_filter = ((ts_AmbientTemp>5) & (ts_AmbientTemp<25))\n",
    "    ts_AmbientTemp[ts_filter] = np.exp(np.log(5)/20*(5-ts_AmbientTemp[ts_filter]))\n",
    "\n",
    "    mydata[\"demand\"] = {}\n",
    "    mydata[\"supim\"] = {}\n",
    "    for stf in mydata[\"support_timeframes\"]:\n",
    "        for sit in mydata[\"sites\"]:\n",
    "            mydata[\"demand\"][(stf, sit, \"Elec\", 0)] = 0\n",
    "            mydata[\"demand\"][(stf, sit, \"Heat\", 0)] = 0\n",
    "            mydata[\"supim\"][(stf, sit, \"AmbientTemp\", 0)] = 0\n",
    "            mydata[\"supim\"][(stf, sit, \"SolarPV\", 0)] = 0\n",
    "            mydata[\"supim\"][(stf, sit, \"SolarThermal\", 0)] = 0\n",
    "            for tm in range(len(ts_Elec)):\n",
    "                mydata[\"demand\"][(stf, sit, \"Elec\", tm+1)] = ts_Elec[tm]\n",
    "                mydata[\"demand\"][(stf, sit, \"Heat\", tm+1)] = ts_Heat[tm]\n",
    "                mydata[\"supim\"][(stf, sit, \"AmbientTemp\", tm+1)] = ts_AmbientTemp[tm]\n",
    "                mydata[\"supim\"][(stf, sit, \"SolarPV\", tm+1)] = ts_SolarPV[tm]\n",
    "                mydata[\"supim\"][(stf, sit, \"SolarThermal\", tm+1)] = ts_SolarThermal[tm]\n",
    "\n",
    "    mydata[\"timesteps\"] = range(len(ts_Elec)+1)\n",
    "    return mydata"
   ]
  },
  {
   "cell_type": "markdown",
   "metadata": {},
   "source": [
    "### Data visualization"
   ]
  },
  {
   "cell_type": "code",
   "execution_count": null,
   "metadata": {},
   "outputs": [],
   "source": [
    "# Generate the data for the reference scenario\n",
    "data_ref = generate_scenario()\n",
    "%matplotlib inline"
   ]
  },
  {
   "cell_type": "code",
   "execution_count": null,
   "metadata": {},
   "outputs": [],
   "source": [
    "# Retrieve the electricity and heat demands\n",
    "ts_Elec = []\n",
    "ts_Heat = []\n",
    "for (stf, sit, com, tm), v in data_ref[\"demand\"].items():\n",
    "    if ((sit==\"OldTown\") and (com==\"Elec\")):\n",
    "        ts_Elec.append(v)\n",
    "    if ((sit==\"OldTown\") and (com==\"Heat\")):\n",
    "        ts_Heat.append(v)\n",
    "# Plot the electricity and heat demands side by side\n",
    "fig1 = plt.figure(figsize=[12, 5])\n",
    "ax1a = fig1.add_subplot(1,2,1)\n",
    "ax1a.set_xlim(1, 24)\n",
    "ax1a.set_xlabel(\"tm\")\n",
    "ax1a.set_ylim(0, 150)\n",
    "ax1a.set_ylabel(\"SE Elec [MWh]\")\n",
    "ax1a.set_title(\"Electricity demand\")\n",
    "plt.plot(ts_Elec, color=\"blue\")\n",
    "fig1.add_subplot(1,2,2)\n",
    "ax1b = fig1.add_subplot(1,2,2)\n",
    "ax1b.set_xlim(1, 24)\n",
    "ax1b.set_xlabel(\"tm\")\n",
    "ax1b.set_ylim(0, 150)\n",
    "ax1b.set_ylabel(\"SE Heat [MWh]\")\n",
    "ax1b.set_title(\"Heat demand\")\n",
    "plt.plot(ts_Heat, color=\"orange\")"
   ]
  },
  {
   "cell_type": "code",
   "execution_count": null,
   "metadata": {},
   "outputs": [],
   "source": [
    "AmbientTemp = [5, 5, 3, 3, 5, 7, 7, 10, 12, 15, 16, 18, 18, 20, 17, 19, 16, 14, 12, 10, 8, 8, 6, 5]\n",
    "ts_AmbientTemp = []\n",
    "for (stf, sit, com, tm), v in data_ref[\"supim\"].items():\n",
    "    if ((sit==\"OldTown\") and (com==\"AmbientTemp\")):\n",
    "        # COP calculation\n",
    "        ts_AmbientTemp.append(v * data_ref[\"ratio_out\"][(2021, \"Heat pump\", \"Heat\")])\n",
    "        \n",
    "# Plot the ambient temperature and the heat pump efficiency in the same plot\n",
    "fig2, ax2 = plt.subplots(figsize=[10, 5])\n",
    "#ax2 = plt.axes()\n",
    "ax2.set_xlim(1, 24)\n",
    "ax2.set_xlabel(\"tm\")\n",
    "ax2.set_ylim(0, 22)\n",
    "ax2.set_ylabel(\"Ambient temperature [°C]\")\n",
    "ax2.set_title(\"Temperature\")\n",
    "plt.plot(AmbientTemp, color=\"red\")\n",
    "ax2b = ax2.twinx()\n",
    "ax2b.set_ylim(0, 6)\n",
    "ax2b.set_ylabel(\"Heat pump COP [1]\")\n",
    "ax2b.plot(ts_AmbientTemp[1:], color=\"black\")"
   ]
  },
  {
   "cell_type": "markdown",
   "metadata": {},
   "source": [
    "***\n",
    "### <span style=\"color:blue\">Task</span>\n",
    "Plot the capacity factors for SolarPV and SolarThermal side by side.\n",
    "***"
   ]
  },
  {
   "cell_type": "code",
   "execution_count": null,
   "metadata": {},
   "outputs": [],
   "source": [
    "data_ref[\"pro_invcost\"]"
   ]
  },
  {
   "cell_type": "markdown",
   "metadata": {},
   "source": [
    "### Model solving"
   ]
  },
  {
   "cell_type": "markdown",
   "metadata": {},
   "source": [
    "I moved the script of the model to a separate file to shorten this notebook. It is (almost) identical to the script we used yesterday."
   ]
  },
  {
   "cell_type": "code",
   "execution_count": null,
   "metadata": {},
   "outputs": [],
   "source": [
    "%run 03_mini_urbs.py"
   ]
  },
  {
   "cell_type": "code",
   "execution_count": null,
   "metadata": {},
   "outputs": [],
   "source": [
    "# Create the model by running the function \"create_model\"\n",
    "# This similar to the instantiation of an AbstractModel\n",
    "model_ref = create_model(data_ref)\n",
    "# We first load the solver\n",
    "opt = pyo.SolverFactory('glpk') # glpk: GNU Linear Programming Kit\n",
    "results = opt.solve(model_ref)\n",
    "# First way of reporting the solution\n",
    "results"
   ]
  },
  {
   "cell_type": "code",
   "execution_count": null,
   "metadata": {},
   "outputs": [],
   "source": [
    "results.solver()"
   ]
  },
  {
   "cell_type": "markdown",
   "metadata": {},
   "source": [
    "### Reporting"
   ]
  },
  {
   "cell_type": "code",
   "execution_count": null,
   "metadata": {},
   "outputs": [],
   "source": [
    "# You can access the variables, for example the output of the processes\n",
    "supply_data = {}\n",
    "for (tm, stf, sit, com, com_type), x in model_ref.e_pro_out.items():\n",
    "    supply_data[(tm, stf, sit, com, com_type)] = pyo.value(x)\n",
    "\n",
    "df_supply = pd.DataFrame.from_dict(supply_data, orient=\"index\", columns=[\"SE [MWh]\"])\n",
    "df_supply.index = pd.MultiIndex.from_tuples(df_supply.index, names=('t', 'stf', 'Site', 'Technology', 'Commodity'))\n",
    "df_supply.reorder_levels([2,4,3,0,1])"
   ]
  },
  {
   "cell_type": "markdown",
   "metadata": {},
   "source": [
    "***\n",
    "### <span style=\"color:blue\">Task</span>\n",
    "1. Report the most important results (new capacities, costs, power mix over time) using the techniques that we learned on Day 01.\n",
    "2. Experiment with different scenarios (i.e. vary the settings when generating the data and solve the different models).\n",
    "3. Analyze the results and draw some conclusions.\n",
    "***"
   ]
  },
  {
   "cell_type": "markdown",
   "metadata": {},
   "source": [
    "***\n",
    "## <span style=\"color:red\">Homework</span>\n",
    "1. Add another energy sector (transportation). The demand of transportation can be expressed in vehicle-kilometers. The processes that convert gasoline/gas or electricity to vehicle-kilometers are conventional cars or battery electric vehicles (BEVs). Beware that we have not modeled storage so far.\n",
    "2. Perform a sensitivity analysis: <br>\n",
    "    a. Experiment with different investment cost assumptions for BEVs<br>\n",
    "    b. Experiment with different CO2 prices<br>\n",
    "3. In which town is it cheaper to decarbonize the system?\n",
    "***"
   ]
  }
 ],
 "metadata": {
  "kernelspec": {
   "display_name": "urbs",
   "language": "python",
   "name": "urbs"
  },
  "language_info": {
   "codemirror_mode": {
    "name": "ipython",
    "version": 3
   },
   "file_extension": ".py",
   "mimetype": "text/x-python",
   "name": "python",
   "nbconvert_exporter": "python",
   "pygments_lexer": "ipython3",
   "version": "3.6.12"
  }
 },
 "nbformat": 4,
 "nbformat_minor": 4
}
